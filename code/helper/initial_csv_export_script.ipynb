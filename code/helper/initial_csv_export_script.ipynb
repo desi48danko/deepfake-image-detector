{
 "cells": [
  {
   "cell_type": "code",
   "execution_count": 7,
   "metadata": {},
   "outputs": [],
   "source": [
    "# Imports\n",
    "import pandas as pd\n",
    "import numpy as np"
   ]
  },
  {
   "cell_type": "code",
   "execution_count": 14,
   "metadata": {},
   "outputs": [],
   "source": [
    "# first run\n",
    "df = pd.DataFrame(data=np.NaN, index=[\"empty_model\"], columns=[\"train_acc\", \"val_acc\",\n",
    "                                                               \"train_prec\", \"val_prec\",\n",
    "                                                               \"train_recall\", \"val_recall\",\n",
    "                                                               \"train_auc\", \"val_auc\",\n",
    "                                                               \"train_fp\", \"val_fp\",\n",
    "                                                               \"train_tp\", \"val_tp\",\n",
    "                                                               \"train_fn\", \"val_fn\",\n",
    "                                                               \"train_tn\", \"val_tn\"])\n",
    "print(df)\n",
    "df.to_csv(\"../Results/model_scores.csv\")"
   ]
  },
  {
   "cell_type": "code",
   "execution_count": null,
   "metadata": {},
   "outputs": [],
   "source": [
    "# code to append\n",
    "# df.to_csv(\"../Results/model_scores.csv\", mode=\"a\")"
   ]
  }
 ],
 "metadata": {
  "kernelspec": {
   "display_name": "PythonData",
   "language": "python",
   "name": "python3"
  },
  "language_info": {
   "codemirror_mode": {
    "name": "ipython",
    "version": 3
   },
   "file_extension": ".py",
   "mimetype": "text/x-python",
   "name": "python",
   "nbconvert_exporter": "python",
   "pygments_lexer": "ipython3",
   "version": "3.9.16"
  },
  "orig_nbformat": 4
 },
 "nbformat": 4,
 "nbformat_minor": 2
}
